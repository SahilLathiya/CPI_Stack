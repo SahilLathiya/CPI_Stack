{
 "cells": [
  {
   "cell_type": "code",
   "execution_count": 28,
   "id": "95380f27",
   "metadata": {},
   "outputs": [
    {
     "name": "stdout",
     "output_type": "stream",
     "text": [
      "Enter file number: 523\n"
     ]
    }
   ],
   "source": [
    "file_num = str(input(\"Enter file number: \"))\n",
    "# 511, 519, 520, 523"
   ]
  },
  {
   "cell_type": "code",
   "execution_count": 29,
   "id": "70f6f0e8",
   "metadata": {},
   "outputs": [
    {
     "name": "stdout",
     "output_type": "stream",
     "text": [
      "     0.300336314      1,257,249,834      cpu-cycles                                                              (31.00%)\n"
     ]
    }
   ],
   "source": [
    "import numpy as np\n",
    "\n",
    "# Specify the file path\n",
    "file_path = 'perf_output_{}_refrate.txt'.format(file_num)  # Replace with the path to your text file\n",
    "\n",
    "# Specify the delimiter used in the text file (e.g., tab, comma, space)\n",
    "delimiter = '\\t'  # Replace with the appropriate delimiter\n",
    "\n",
    "# Use np.loadtxt to read the data from the text file\n",
    "data = np.loadtxt(file_path, delimiter=delimiter,dtype=str)\n",
    "\n",
    "# Now, 'data' contains the data from the text file as a NumPy array\n",
    "print(data[0])\n"
   ]
  },
  {
   "cell_type": "code",
   "execution_count": 30,
   "id": "d85a0b30",
   "metadata": {},
   "outputs": [
    {
     "data": {
      "text/plain": [
       "['0.300336314', '1,257,249,834', 'cpu-cycles', '(31.00%)']"
      ]
     },
     "execution_count": 30,
     "metadata": {},
     "output_type": "execute_result"
    }
   ],
   "source": [
    "data[0].split()"
   ]
  },
  {
   "cell_type": "code",
   "execution_count": 31,
   "id": "5b58da4e",
   "metadata": {},
   "outputs": [],
   "source": [
    "clean_data = []\n",
    "for d in data:\n",
    "    clean_data.append(d.split())"
   ]
  },
  {
   "cell_type": "code",
   "execution_count": 32,
   "id": "fbc6de67",
   "metadata": {},
   "outputs": [],
   "source": [
    "more_clean_data = []\n",
    "\n",
    "for c in clean_data:\n",
    "    more_clean_data.append([c[1],c[2]])\n",
    "\n",
    "# more_clean_data"
   ]
  },
  {
   "cell_type": "code",
   "execution_count": 33,
   "id": "cbb50453",
   "metadata": {},
   "outputs": [],
   "source": [
    "g = []\n",
    "for m in more_clean_data:\n",
    "    if(\"<\" not in m[0]):\n",
    "        g.append(int(m[0].replace(\",\", \"\")))\n",
    "    else:\n",
    "        print(\"<Not Counted> vaalu aavyu nahi chale....\")\n",
    "# g"
   ]
  },
  {
   "cell_type": "code",
   "execution_count": 34,
   "id": "bc8ed336",
   "metadata": {},
   "outputs": [],
   "source": [
    "g = np.array(g)\n",
    "data = g.reshape(len(g)//15,15)\n",
    "\n",
    "#Delete first 20 rows and last 20 rows due to irrelevant data\n",
    "data = data[:,:]"
   ]
  },
  {
   "cell_type": "code",
   "execution_count": 35,
   "id": "78212ed6",
   "metadata": {},
   "outputs": [
    {
     "data": {
      "text/plain": [
       "1747"
      ]
     },
     "execution_count": 35,
     "metadata": {},
     "output_type": "execute_result"
    }
   ],
   "source": [
    "len(data)"
   ]
  },
  {
   "cell_type": "code",
   "execution_count": 36,
   "id": "0f2541a3",
   "metadata": {},
   "outputs": [],
   "source": [
    "filename = 'data_{}.csv'.format(file_num)\n",
    "\n",
    "# Save the NumPy array to a CSV file\n",
    "np.savetxt(filename, data, delimiter=',', fmt='%d')"
   ]
  },
  {
   "cell_type": "code",
   "execution_count": 30,
   "id": "78ba7291",
   "metadata": {},
   "outputs": [],
   "source": [
    "# column_min = np.min(data, axis=0)\n",
    "# column_max = np.max(data, axis=0)\n",
    "# standardized_data = (data - column_min) / (column_max - column_min)"
   ]
  },
  {
   "cell_type": "code",
   "execution_count": 31,
   "id": "26b9c4f4",
   "metadata": {},
   "outputs": [],
   "source": [
    "# standardized_data"
   ]
  },
  {
   "cell_type": "code",
   "execution_count": 32,
   "id": "a27c67c8",
   "metadata": {},
   "outputs": [],
   "source": [
    "filename = 'standardized_data_{}.csv'.format(file_num)\n",
    "\n",
    "# Save the NumPy array to a CSV file\n",
    "np.savetxt(filename, standardized_data, delimiter=',', fmt='%f')"
   ]
  },
  {
   "cell_type": "code",
   "execution_count": null,
   "id": "e2a1b2f8",
   "metadata": {},
   "outputs": [],
   "source": []
  },
  {
   "cell_type": "code",
   "execution_count": null,
   "id": "59dde860",
   "metadata": {},
   "outputs": [],
   "source": []
  }
 ],
 "metadata": {
  "kernelspec": {
   "display_name": "Python 3 (ipykernel)",
   "language": "python",
   "name": "python3"
  },
  "language_info": {
   "codemirror_mode": {
    "name": "ipython",
    "version": 3
   },
   "file_extension": ".py",
   "mimetype": "text/x-python",
   "name": "python",
   "nbconvert_exporter": "python",
   "pygments_lexer": "ipython3",
   "version": "3.10.9"
  }
 },
 "nbformat": 4,
 "nbformat_minor": 5
}
